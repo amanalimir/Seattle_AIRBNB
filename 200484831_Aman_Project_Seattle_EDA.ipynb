{
 "cells": [
  {
   "cell_type": "markdown",
   "id": "1adb6868",
   "metadata": {
    "id": "1adb6868"
   },
   "source": [
    "# Project: Exploratory Data Analysis on Seattle Airbnb Data\n",
    "### Project Due on Friday 10th Dec 2021, 11:59 pm EST\n",
    "\n",
    "#### Context\n",
    "Since 2008, guests and hosts have used Airbnb to travel in a more unique, personalized way. As part of the Airbnb Inside initiative, this dataset describes the listing activity of homestays in Seattle, WA.\n",
    "\n",
    "#### Content\n",
    "The following Airbnb data is included in this Seattle dataset:\n",
    "- Listings, including full descriptions and average review score\n",
    "- Reviews, including unique id for each reviewer and detailed comments\n",
    "- Calendar, including listing id and the price and availability for that day\n",
    "\n",
    "**To get the dataset click [here](https://georgiancollege-my.sharepoint.com/:f:/g/personal/katie_tiwari_georgiancollege_ca/Eh6hG8jQX_FBvU_pk5R5wZwB_xn5gS2eBE1vWQ_DmaH1kQ?e=evqomn)**\n",
    "\n",
    "#### Inspiration for questions\n",
    "- Can you describe the vibe of each Seattle neighborhood using listing descriptions?\n",
    "- What are the busiest times of the year to visit Seattle? By how much do prices spike?\n",
    "- Is there a general upward trend of both new Airbnb listings and total Airbnb visitors to Seattle?\n",
    "\n",
    "#### **Note:** Don't discuss the results, limitations, conclusion, reasons as comment in the code cell. Use separate markdown cells instead. If you are not familier with markdown, refer this [link here](https://www.datacamp.com/community/tutorials/markdown-in-jupyter-notebook). Only add code related comments as comment in the code cell. Also Make sure to add comments in the code.\n",
    "\n",
    "## Table of Contents\n",
    "<ul>\n",
    "<li><a href=\"#intro\">Introduction</a></li>\n",
    "<li><a href=\"#wrangling\">Data Wrangling</a></li>\n",
    "<li><a href=\"#eda\">Exploratory Data Analysis</a></li>\n",
    "<li><a href=\"#conclusions\">Conclusions</a></li>\n",
    "</ul>"
   ]
  },
  {
   "cell_type": "markdown",
   "id": "26a4ee08",
   "metadata": {
    "id": "26a4ee08"
   },
   "source": [
    "<a id='intro'></a>\n",
    "## Introduction\n",
    "\n",
    "> In this section of the report, provide a brief introduction to the dataset you've selected for analysis. \n",
    "\n",
    "- Create atleast three complex and meaningful questions(refer inspiration questions to get an idea), then address those questions in the rest of the analysis. If you're not sure what questions to ask, then make sure you familiarize yourself with the dataset, its variables and the dataset context for ideas of what to explore.\n",
    "- **Include the 3 research questions here**\n",
    "\n"
   ]
  },
  {
   "cell_type": "markdown",
   "id": "1bba9783",
   "metadata": {},
   "source": [
    "The datasets used for the analysis of data related to the Airbnb listings in Seattle are listings, reviews and calendar. Calendar dataset provides data around the availability status of  particular listing being avialable on a particular date. If the listing is available, the price is also provided for the same and incase a listing is not available there is no data in the price column.\n",
    "Reviews data links the listings with the booking id's and the customer reviews for those particular listings. \n",
    "Listings dataset shares the most amount of data related to the listings. These data go into depth explaining reviews, amneties, number of reviews, number of rooms,beds and bathrooms, space, description etc. This dataset basically provides a complete portfolio of a listing and can be used to analyze the trends and dependency of parameters across all listings."
   ]
  },
  {
   "cell_type": "markdown",
   "id": "28b73ded",
   "metadata": {},
   "source": [
    "The datasets that I have majorly used for my analysis are the calendar and listings as my analysis focuses more around the price trends and listing review scores. "
   ]
  },
  {
   "cell_type": "markdown",
   "id": "dae36f24",
   "metadata": {},
   "source": [
    "1. What was the busiest month of the year 2016 to visit Seattle? By how much were the Airbnb prices hiked compared to the other months?\n",
    "2. Does more number of reviews of a listing mean that the overall reviews are better?\n",
    "3. What are the various factors that had an impact on the reviews of a listing in Seattle?"
   ]
  },
  {
   "cell_type": "code",
   "execution_count": 1,
   "id": "adc23424",
   "metadata": {
    "id": "adc23424"
   },
   "outputs": [],
   "source": [
    "# Use this, and more code cells, to explore your data. Don't forget to add markdown cells to document your observations and findings.\n",
    "import pandas as pd\n",
    "import numpy as np\n",
    "import seaborn as sns\n",
    "import matplotlib.pyplot as plt\n"
   ]
  },
  {
   "cell_type": "markdown",
   "id": "beabf01f",
   "metadata": {
    "id": "beabf01f"
   },
   "source": [
    "<a id='wrangling'></a>\n",
    "## Data Wrangling\n",
    "\n",
    "> In this section of the report, you will load in the data, check for cleanliness, merging multiple files, printing some rows of the data in output, handling missing values, duplicat values, outliers etc. and then trim and clean your dataset for analysis. Make sure that you document your steps carefully and privde the reasoning for every decision taken."
   ]
  },
  {
   "cell_type": "code",
   "execution_count": 2,
   "id": "f94805e9",
   "metadata": {
    "id": "f94805e9"
   },
   "outputs": [],
   "source": [
    "# Use this, and more code cells, to explore your data. Don't forget to add markdown cells to document your observations and findings. \n",
    "df_calendar = pd.read_csv(\"calendar.csv\")\n",
    "df_listings = pd.read_csv(\"listings.csv\")\n",
    "df_reviews = pd.read_csv(\"reviews.csv\")"
   ]
  },
  {
   "cell_type": "markdown",
   "id": "0c2d4c14",
   "metadata": {},
   "source": [
    "Reading data from the files and storing them in dataframe."
   ]
  },
  {
   "cell_type": "code",
   "execution_count": 3,
   "id": "10ef5005",
   "metadata": {
    "id": "10ef5005"
   },
   "outputs": [
    {
     "name": "stdout",
     "output_type": "stream",
     "text": [
      "<class 'pandas.core.frame.DataFrame'>\n",
      "RangeIndex: 1393570 entries, 0 to 1393569\n",
      "Data columns (total 4 columns):\n",
      " #   Column      Non-Null Count    Dtype \n",
      "---  ------      --------------    ----- \n",
      " 0   listing_id  1393570 non-null  int64 \n",
      " 1   date        1393570 non-null  object\n",
      " 2   available   1393570 non-null  object\n",
      " 3   price       934542 non-null   object\n",
      "dtypes: int64(1), object(3)\n",
      "memory usage: 42.5+ MB\n"
     ]
    }
   ],
   "source": [
    "df_calendar.info()\n",
    "#Checking the data type and structure of data in the dataframe"
   ]
  },
  {
   "cell_type": "code",
   "execution_count": 4,
   "id": "309978cb",
   "metadata": {},
   "outputs": [
    {
     "name": "stdout",
     "output_type": "stream",
     "text": [
      "<class 'pandas.core.frame.DataFrame'>\n",
      "RangeIndex: 3818 entries, 0 to 3817\n",
      "Data columns (total 92 columns):\n",
      " #   Column                            Non-Null Count  Dtype  \n",
      "---  ------                            --------------  -----  \n",
      " 0   id                                3818 non-null   int64  \n",
      " 1   listing_url                       3818 non-null   object \n",
      " 2   scrape_id                         3818 non-null   int64  \n",
      " 3   last_scraped                      3818 non-null   object \n",
      " 4   name                              3818 non-null   object \n",
      " 5   summary                           3641 non-null   object \n",
      " 6   space                             3249 non-null   object \n",
      " 7   description                       3818 non-null   object \n",
      " 8   experiences_offered               3818 non-null   object \n",
      " 9   neighborhood_overview             2786 non-null   object \n",
      " 10  notes                             2212 non-null   object \n",
      " 11  transit                           2884 non-null   object \n",
      " 12  thumbnail_url                     3498 non-null   object \n",
      " 13  medium_url                        3498 non-null   object \n",
      " 14  picture_url                       3818 non-null   object \n",
      " 15  xl_picture_url                    3498 non-null   object \n",
      " 16  host_id                           3818 non-null   int64  \n",
      " 17  host_url                          3818 non-null   object \n",
      " 18  host_name                         3816 non-null   object \n",
      " 19  host_since                        3816 non-null   object \n",
      " 20  host_location                     3810 non-null   object \n",
      " 21  host_about                        2959 non-null   object \n",
      " 22  host_response_time                3295 non-null   object \n",
      " 23  host_response_rate                3295 non-null   object \n",
      " 24  host_acceptance_rate              3045 non-null   object \n",
      " 25  host_is_superhost                 3816 non-null   object \n",
      " 26  host_thumbnail_url                3816 non-null   object \n",
      " 27  host_picture_url                  3816 non-null   object \n",
      " 28  host_neighbourhood                3518 non-null   object \n",
      " 29  host_listings_count               3816 non-null   float64\n",
      " 30  host_total_listings_count         3816 non-null   float64\n",
      " 31  host_verifications                3818 non-null   object \n",
      " 32  host_has_profile_pic              3816 non-null   object \n",
      " 33  host_identity_verified            3816 non-null   object \n",
      " 34  street                            3818 non-null   object \n",
      " 35  neighbourhood                     3402 non-null   object \n",
      " 36  neighbourhood_cleansed            3818 non-null   object \n",
      " 37  neighbourhood_group_cleansed      3818 non-null   object \n",
      " 38  city                              3818 non-null   object \n",
      " 39  state                             3818 non-null   object \n",
      " 40  zipcode                           3811 non-null   object \n",
      " 41  market                            3818 non-null   object \n",
      " 42  smart_location                    3818 non-null   object \n",
      " 43  country_code                      3818 non-null   object \n",
      " 44  country                           3818 non-null   object \n",
      " 45  latitude                          3818 non-null   float64\n",
      " 46  longitude                         3818 non-null   float64\n",
      " 47  is_location_exact                 3818 non-null   object \n",
      " 48  property_type                     3817 non-null   object \n",
      " 49  room_type                         3818 non-null   object \n",
      " 50  accommodates                      3818 non-null   int64  \n",
      " 51  bathrooms                         3802 non-null   float64\n",
      " 52  bedrooms                          3812 non-null   float64\n",
      " 53  beds                              3817 non-null   float64\n",
      " 54  bed_type                          3818 non-null   object \n",
      " 55  amenities                         3818 non-null   object \n",
      " 56  square_feet                       97 non-null     float64\n",
      " 57  price                             3818 non-null   object \n",
      " 58  weekly_price                      2009 non-null   object \n",
      " 59  monthly_price                     1517 non-null   object \n",
      " 60  security_deposit                  1866 non-null   object \n",
      " 61  cleaning_fee                      2788 non-null   object \n",
      " 62  guests_included                   3818 non-null   int64  \n",
      " 63  extra_people                      3818 non-null   object \n",
      " 64  minimum_nights                    3818 non-null   int64  \n",
      " 65  maximum_nights                    3818 non-null   int64  \n",
      " 66  calendar_updated                  3818 non-null   object \n",
      " 67  has_availability                  3818 non-null   object \n",
      " 68  availability_30                   3818 non-null   int64  \n",
      " 69  availability_60                   3818 non-null   int64  \n",
      " 70  availability_90                   3818 non-null   int64  \n",
      " 71  availability_365                  3818 non-null   int64  \n",
      " 72  calendar_last_scraped             3818 non-null   object \n",
      " 73  number_of_reviews                 3818 non-null   int64  \n",
      " 74  first_review                      3191 non-null   object \n",
      " 75  last_review                       3191 non-null   object \n",
      " 76  review_scores_rating              3171 non-null   float64\n",
      " 77  review_scores_accuracy            3160 non-null   float64\n",
      " 78  review_scores_cleanliness         3165 non-null   float64\n",
      " 79  review_scores_checkin             3160 non-null   float64\n",
      " 80  review_scores_communication       3167 non-null   float64\n",
      " 81  review_scores_location            3163 non-null   float64\n",
      " 82  review_scores_value               3162 non-null   float64\n",
      " 83  requires_license                  3818 non-null   object \n",
      " 84  license                           0 non-null      float64\n",
      " 85  jurisdiction_names                3818 non-null   object \n",
      " 86  instant_bookable                  3818 non-null   object \n",
      " 87  cancellation_policy               3818 non-null   object \n",
      " 88  require_guest_profile_picture     3818 non-null   object \n",
      " 89  require_guest_phone_verification  3818 non-null   object \n",
      " 90  calculated_host_listings_count    3818 non-null   int64  \n",
      " 91  reviews_per_month                 3191 non-null   float64\n",
      "dtypes: float64(17), int64(13), object(62)\n",
      "memory usage: 2.7+ MB\n"
     ]
    }
   ],
   "source": [
    "df_listings.info()\n",
    "#Checking the data type and structure of data in the dataframe"
   ]
  },
  {
   "cell_type": "code",
   "execution_count": 5,
   "id": "926eb388",
   "metadata": {},
   "outputs": [
    {
     "name": "stdout",
     "output_type": "stream",
     "text": [
      "<class 'pandas.core.frame.DataFrame'>\n",
      "RangeIndex: 84849 entries, 0 to 84848\n",
      "Data columns (total 6 columns):\n",
      " #   Column         Non-Null Count  Dtype \n",
      "---  ------         --------------  ----- \n",
      " 0   listing_id     84849 non-null  int64 \n",
      " 1   id             84849 non-null  int64 \n",
      " 2   date           84849 non-null  object\n",
      " 3   reviewer_id    84849 non-null  int64 \n",
      " 4   reviewer_name  84849 non-null  object\n",
      " 5   comments       84831 non-null  object\n",
      "dtypes: int64(3), object(3)\n",
      "memory usage: 3.9+ MB\n"
     ]
    }
   ],
   "source": [
    "df_reviews.info()\n",
    "#Checking the data type and structure of data in the dataframe"
   ]
  },
  {
   "cell_type": "code",
   "execution_count": 6,
   "id": "2f7e552b",
   "metadata": {},
   "outputs": [
    {
     "data": {
      "text/plain": [
       "listing_id         0\n",
       "date               0\n",
       "available          0\n",
       "price         459028\n",
       "dtype: int64"
      ]
     },
     "execution_count": 6,
     "metadata": {},
     "output_type": "execute_result"
    }
   ],
   "source": [
    "df_calendar.isnull().sum()\n",
    "#Checking for null values in the data"
   ]
  },
  {
   "cell_type": "code",
   "execution_count": 7,
   "id": "9d03eb26",
   "metadata": {},
   "outputs": [
    {
     "name": "stdout",
     "output_type": "stream",
     "text": [
      "host_listings_count             27314.0\n",
      "host_total_listings_count       27314.0\n",
      "bathrooms                        4788.5\n",
      "bedrooms                         4985.0\n",
      "beds                             6624.0\n",
      "square_feet                     82898.0\n",
      "review_scores_rating           299784.0\n",
      "review_scores_accuracy          30451.0\n",
      "review_scores_cleanliness       30246.0\n",
      "review_scores_checkin           30926.0\n",
      "review_scores_communication     31067.0\n",
      "review_scores_location          30393.0\n",
      "review_scores_value             29888.0\n",
      "license                             0.0\n",
      "reviews_per_month               6633.83\n",
      "dtype: object\n"
     ]
    }
   ],
   "source": [
    "print(df_listings.sum()[df_listings.isnull().sum()!=0])\n",
    "#Checking for null values in the data"
   ]
  },
  {
   "cell_type": "code",
   "execution_count": 8,
   "id": "2ed29a48",
   "metadata": {},
   "outputs": [
    {
     "data": {
      "text/plain": [
       "listing_id        0\n",
       "id                0\n",
       "date              0\n",
       "reviewer_id       0\n",
       "reviewer_name     0\n",
       "comments         18\n",
       "dtype: int64"
      ]
     },
     "execution_count": 8,
     "metadata": {},
     "output_type": "execute_result"
    }
   ],
   "source": [
    "df_reviews.isnull().sum()\n",
    "#Checking for null values in the data"
   ]
  },
  {
   "cell_type": "code",
   "execution_count": 9,
   "id": "e822f786",
   "metadata": {},
   "outputs": [
    {
     "data": {
      "text/plain": [
       "pandas._libs.tslibs.timestamps.Timestamp"
      ]
     },
     "execution_count": 9,
     "metadata": {},
     "output_type": "execute_result"
    }
   ],
   "source": [
    "df_calendar['date'] = pd.to_datetime(df_calendar['date'])\n",
    "type(df_calendar.date.iloc[0])\n",
    "#Converting the date string to date time format."
   ]
  },
  {
   "cell_type": "code",
   "execution_count": 10,
   "id": "515f7fa6",
   "metadata": {},
   "outputs": [
    {
     "data": {
      "text/plain": [
       "str"
      ]
     },
     "execution_count": 10,
     "metadata": {},
     "output_type": "execute_result"
    }
   ],
   "source": [
    "type(df_calendar.price.iloc[0])"
   ]
  },
  {
   "cell_type": "code",
   "execution_count": 11,
   "id": "1753d18f",
   "metadata": {},
   "outputs": [
    {
     "data": {
      "text/plain": [
       "0"
      ]
     },
     "execution_count": 11,
     "metadata": {},
     "output_type": "execute_result"
    }
   ],
   "source": [
    "df_calendar.dropna(subset = [\"price\"], inplace=True) \n",
    "df_calendar['price'].isnull().sum()"
   ]
  },
  {
   "cell_type": "markdown",
   "id": "83d408f1",
   "metadata": {},
   "source": [
    "Dropping the values that have null in price column of df_calendar data as the data is null only when the listing is not available. Hence, the data should be removed instead of being replaced with some value as it may change the mean value. "
   ]
  },
  {
   "cell_type": "code",
   "execution_count": 12,
   "id": "4c9699c8",
   "metadata": {},
   "outputs": [
    {
     "data": {
      "text/plain": [
       "0          85.00\n",
       "1          85.00\n",
       "9          85.00\n",
       "10         85.00\n",
       "14         85.00\n",
       "           ...  \n",
       "1393207    87.00\n",
       "1393208    87.00\n",
       "1393211    87.00\n",
       "1393212    87.00\n",
       "1393213    87.00\n",
       "Name: price, Length: 934542, dtype: object"
      ]
     },
     "execution_count": 12,
     "metadata": {},
     "output_type": "execute_result"
    }
   ],
   "source": [
    "def remove_char(price):\n",
    "    val = \"\"\n",
    "    if type(price) is str:\n",
    "        for i in price:\n",
    "            if i==\"$\" or i==\",\":\n",
    "                pass\n",
    "            else:\n",
    "                val = val + i\n",
    "        return val\n",
    "    else:\n",
    "        return price\n",
    "    \n",
    "df_calendar['price'] = df_calendar.price.apply(remove_char)\n",
    "df_calendar['price']\n",
    "# Removing $ and , from price."
   ]
  },
  {
   "cell_type": "code",
   "execution_count": 13,
   "id": "864b152b",
   "metadata": {},
   "outputs": [
    {
     "data": {
      "text/plain": [
       "numpy.float64"
      ]
     },
     "execution_count": 13,
     "metadata": {},
     "output_type": "execute_result"
    }
   ],
   "source": [
    "df_calendar['price'] = df_calendar['price'].astype(float)\n",
    "type(df_calendar.price.iloc[0])\n",
    "# After removing the characters, converting the price to float for further analysis."
   ]
  },
  {
   "cell_type": "code",
   "execution_count": 14,
   "id": "8b5a1eed",
   "metadata": {},
   "outputs": [
    {
     "data": {
      "text/plain": [
       "pandas._libs.tslibs.timestamps.Timestamp"
      ]
     },
     "execution_count": 14,
     "metadata": {},
     "output_type": "execute_result"
    }
   ],
   "source": [
    "df_reviews['date'] = pd.to_datetime(df_reviews['date'])\n",
    "type(df_reviews.date.iloc[0])\n",
    "# Converting the date cloumn in reviews table from string to date time format"
   ]
  },
  {
   "cell_type": "code",
   "execution_count": 15,
   "id": "91da58f0",
   "metadata": {},
   "outputs": [
    {
     "data": {
      "text/plain": [
       "listing_id       0\n",
       "id               0\n",
       "date             0\n",
       "reviewer_id      0\n",
       "reviewer_name    0\n",
       "comments         0\n",
       "dtype: int64"
      ]
     },
     "execution_count": 15,
     "metadata": {},
     "output_type": "execute_result"
    }
   ],
   "source": [
    "df_reviews.dropna(inplace=True)\n",
    "df_reviews.isnull().sum()\n",
    "# Dropping the rows having any null values in the reviews table"
   ]
  },
  {
   "cell_type": "code",
   "execution_count": 16,
   "id": "f9b7a5b3",
   "metadata": {},
   "outputs": [
    {
     "name": "stdout",
     "output_type": "stream",
     "text": [
      "<class 'pandas.core.frame.DataFrame'>\n",
      "Int64Index: 84831 entries, 0 to 84848\n",
      "Data columns (total 6 columns):\n",
      " #   Column         Non-Null Count  Dtype         \n",
      "---  ------         --------------  -----         \n",
      " 0   listing_id     84831 non-null  int64         \n",
      " 1   id             84831 non-null  int64         \n",
      " 2   date           84831 non-null  datetime64[ns]\n",
      " 3   reviewer_id    84831 non-null  int64         \n",
      " 4   reviewer_name  84831 non-null  object        \n",
      " 5   comments       84831 non-null  object        \n",
      "dtypes: datetime64[ns](1), int64(3), object(2)\n",
      "memory usage: 4.5+ MB\n"
     ]
    }
   ],
   "source": [
    "df_reviews.info()\n",
    "# Checking the cloumn types"
   ]
  },
  {
   "cell_type": "code",
   "execution_count": 17,
   "id": "995d8c62",
   "metadata": {},
   "outputs": [],
   "source": [
    "mean_beds = int(df_listings.beds.mean())"
   ]
  },
  {
   "cell_type": "code",
   "execution_count": 18,
   "id": "3917084b",
   "metadata": {},
   "outputs": [
    {
     "data": {
      "text/plain": [
       "0"
      ]
     },
     "execution_count": 18,
     "metadata": {},
     "output_type": "execute_result"
    }
   ],
   "source": [
    "df_listings.beds.fillna(mean_beds, inplace=True)\n",
    "df_listings['beds'].isnull().sum()\n",
    "# Replacing the null values in beds column in listings dataframe with the mean value."
   ]
  },
  {
   "cell_type": "code",
   "execution_count": 19,
   "id": "eebf6021",
   "metadata": {},
   "outputs": [
    {
     "data": {
      "text/plain": [
       "0        85.0\n",
       "1       150.0\n",
       "2       975.0\n",
       "3       100.0\n",
       "4       450.0\n",
       "        ...  \n",
       "3813    359.0\n",
       "3814     79.0\n",
       "3815     93.0\n",
       "3816     99.0\n",
       "3817     87.0\n",
       "Name: price, Length: 3818, dtype: float64"
      ]
     },
     "execution_count": 19,
     "metadata": {},
     "output_type": "execute_result"
    }
   ],
   "source": [
    "df_listings['price'].fillna(0, inplace=True)\n",
    "df_listings['price'] = df_listings.price.apply(remove_char)\n",
    "df_listings['price'] = df_listings['price'].astype(float)\n",
    "df_listings['price']\n",
    "# Filling up the null values in price column in df_listings and converting it to float after removing the symbols."
   ]
  },
  {
   "cell_type": "code",
   "execution_count": 20,
   "id": "727446db",
   "metadata": {},
   "outputs": [
    {
     "data": {
      "text/html": [
       "<div>\n",
       "<style scoped>\n",
       "    .dataframe tbody tr th:only-of-type {\n",
       "        vertical-align: middle;\n",
       "    }\n",
       "\n",
       "    .dataframe tbody tr th {\n",
       "        vertical-align: top;\n",
       "    }\n",
       "\n",
       "    .dataframe thead th {\n",
       "        text-align: right;\n",
       "    }\n",
       "</style>\n",
       "<table border=\"1\" class=\"dataframe\">\n",
       "  <thead>\n",
       "    <tr style=\"text-align: right;\">\n",
       "      <th></th>\n",
       "      <th>id</th>\n",
       "      <th>listing_url</th>\n",
       "      <th>scrape_id</th>\n",
       "      <th>last_scraped</th>\n",
       "      <th>name</th>\n",
       "      <th>summary</th>\n",
       "      <th>space</th>\n",
       "      <th>description</th>\n",
       "      <th>experiences_offered</th>\n",
       "      <th>neighborhood_overview</th>\n",
       "      <th>...</th>\n",
       "      <th>review_scores_value</th>\n",
       "      <th>requires_license</th>\n",
       "      <th>license</th>\n",
       "      <th>jurisdiction_names</th>\n",
       "      <th>instant_bookable</th>\n",
       "      <th>cancellation_policy</th>\n",
       "      <th>require_guest_profile_picture</th>\n",
       "      <th>require_guest_phone_verification</th>\n",
       "      <th>calculated_host_listings_count</th>\n",
       "      <th>reviews_per_month</th>\n",
       "    </tr>\n",
       "  </thead>\n",
       "  <tbody>\n",
       "  </tbody>\n",
       "</table>\n",
       "<p>0 rows × 92 columns</p>\n",
       "</div>"
      ],
      "text/plain": [
       "Empty DataFrame\n",
       "Columns: [id, listing_url, scrape_id, last_scraped, name, summary, space, description, experiences_offered, neighborhood_overview, notes, transit, thumbnail_url, medium_url, picture_url, xl_picture_url, host_id, host_url, host_name, host_since, host_location, host_about, host_response_time, host_response_rate, host_acceptance_rate, host_is_superhost, host_thumbnail_url, host_picture_url, host_neighbourhood, host_listings_count, host_total_listings_count, host_verifications, host_has_profile_pic, host_identity_verified, street, neighbourhood, neighbourhood_cleansed, neighbourhood_group_cleansed, city, state, zipcode, market, smart_location, country_code, country, latitude, longitude, is_location_exact, property_type, room_type, accommodates, bathrooms, bedrooms, beds, bed_type, amenities, square_feet, price, weekly_price, monthly_price, security_deposit, cleaning_fee, guests_included, extra_people, minimum_nights, maximum_nights, calendar_updated, has_availability, availability_30, availability_60, availability_90, availability_365, calendar_last_scraped, number_of_reviews, first_review, last_review, review_scores_rating, review_scores_accuracy, review_scores_cleanliness, review_scores_checkin, review_scores_communication, review_scores_location, review_scores_value, requires_license, license, jurisdiction_names, instant_bookable, cancellation_policy, require_guest_profile_picture, require_guest_phone_verification, calculated_host_listings_count, reviews_per_month]\n",
       "Index: []\n",
       "\n",
       "[0 rows x 92 columns]"
      ]
     },
     "execution_count": 20,
     "metadata": {},
     "output_type": "execute_result"
    }
   ],
   "source": [
    "df_listings[df_listings.duplicated()]\n",
    "# Checking for duplicates in the data"
   ]
  },
  {
   "cell_type": "code",
   "execution_count": 21,
   "id": "5d529cb4",
   "metadata": {},
   "outputs": [
    {
     "data": {
      "text/html": [
       "<div>\n",
       "<style scoped>\n",
       "    .dataframe tbody tr th:only-of-type {\n",
       "        vertical-align: middle;\n",
       "    }\n",
       "\n",
       "    .dataframe tbody tr th {\n",
       "        vertical-align: top;\n",
       "    }\n",
       "\n",
       "    .dataframe thead th {\n",
       "        text-align: right;\n",
       "    }\n",
       "</style>\n",
       "<table border=\"1\" class=\"dataframe\">\n",
       "  <thead>\n",
       "    <tr style=\"text-align: right;\">\n",
       "      <th></th>\n",
       "      <th>listing_id</th>\n",
       "      <th>date</th>\n",
       "      <th>available</th>\n",
       "      <th>price</th>\n",
       "    </tr>\n",
       "  </thead>\n",
       "  <tbody>\n",
       "  </tbody>\n",
       "</table>\n",
       "</div>"
      ],
      "text/plain": [
       "Empty DataFrame\n",
       "Columns: [listing_id, date, available, price]\n",
       "Index: []"
      ]
     },
     "execution_count": 21,
     "metadata": {},
     "output_type": "execute_result"
    }
   ],
   "source": [
    "df_calendar[df_calendar.duplicated()]"
   ]
  },
  {
   "cell_type": "code",
   "execution_count": 22,
   "id": "b281a220",
   "metadata": {},
   "outputs": [
    {
     "data": {
      "text/html": [
       "<div>\n",
       "<style scoped>\n",
       "    .dataframe tbody tr th:only-of-type {\n",
       "        vertical-align: middle;\n",
       "    }\n",
       "\n",
       "    .dataframe tbody tr th {\n",
       "        vertical-align: top;\n",
       "    }\n",
       "\n",
       "    .dataframe thead th {\n",
       "        text-align: right;\n",
       "    }\n",
       "</style>\n",
       "<table border=\"1\" class=\"dataframe\">\n",
       "  <thead>\n",
       "    <tr style=\"text-align: right;\">\n",
       "      <th></th>\n",
       "      <th>listing_id</th>\n",
       "      <th>id</th>\n",
       "      <th>date</th>\n",
       "      <th>reviewer_id</th>\n",
       "      <th>reviewer_name</th>\n",
       "      <th>comments</th>\n",
       "    </tr>\n",
       "  </thead>\n",
       "  <tbody>\n",
       "  </tbody>\n",
       "</table>\n",
       "</div>"
      ],
      "text/plain": [
       "Empty DataFrame\n",
       "Columns: [listing_id, id, date, reviewer_id, reviewer_name, comments]\n",
       "Index: []"
      ]
     },
     "execution_count": 22,
     "metadata": {},
     "output_type": "execute_result"
    }
   ],
   "source": [
    "df_reviews[df_reviews.duplicated()]"
   ]
  },
  {
   "cell_type": "code",
   "execution_count": 23,
   "id": "ce8cdb1b",
   "metadata": {},
   "outputs": [
    {
     "data": {
      "text/plain": [
       "0"
      ]
     },
     "execution_count": 23,
     "metadata": {},
     "output_type": "execute_result"
    }
   ],
   "source": [
    "mean_ratings = int(df_listings.review_scores_rating.mean())\n",
    "df_listings['review_scores_rating'].fillna(mean_ratings, inplace=True)\n",
    "# Filling up the review_scores_rating data in df_listings with the mean value\n",
    "df_listings['review_scores_rating'].isnull().sum()\n",
    "# Checking for any existing null values after replacing them"
   ]
  },
  {
   "cell_type": "markdown",
   "id": "0a4a23c6",
   "metadata": {
    "id": "0a4a23c6"
   },
   "source": [
    "<a id='eda'></a>\n",
    "## Exploratory Data Analysis\n",
    "\n",
    "> Now you're ready to move on to exploration. Compute statistics and create visualizations with the goal of addressing the research questions that you posed in the Introduction section. Look at one variable at a time, and then follow it up by looking at relationships between variables.\n",
    "\n",
    "- The EDA should include both single-variable (1d) and multiple-variable (2d) explorations. \n",
    "- The project's visualizations should be varied and show multiple comparisons and trends. At least three kinds of plots(eg. histogram, box plot, line plot, bar plot, etc) should be created as part of the explorations.\n",
    "- Please make sure reasoning is provided for each analysis decision, plot, and statistical summary.\n",
    "- Visualizations made in the notebook, should depict the data in an appropriate manner (i.e., has appropriate axis labels, scale, legends, and title) that allows plots to be readily interpreted.\n",
    "\n",
    "### 1. What was the busiest month of the year 2016 to visit Seattle? By how much were the Airbnb prices hiked compared to the other months?"
   ]
  },
  {
   "cell_type": "code",
   "execution_count": 24,
   "id": "9d22dc89",
   "metadata": {
    "id": "9d22dc89"
   },
   "outputs": [
    {
     "data": {
      "text/html": [
       "<div>\n",
       "<style scoped>\n",
       "    .dataframe tbody tr th:only-of-type {\n",
       "        vertical-align: middle;\n",
       "    }\n",
       "\n",
       "    .dataframe tbody tr th {\n",
       "        vertical-align: top;\n",
       "    }\n",
       "\n",
       "    .dataframe thead th {\n",
       "        text-align: right;\n",
       "    }\n",
       "</style>\n",
       "<table border=\"1\" class=\"dataframe\">\n",
       "  <thead>\n",
       "    <tr style=\"text-align: right;\">\n",
       "      <th></th>\n",
       "      <th>listing_id</th>\n",
       "      <th>date</th>\n",
       "      <th>available</th>\n",
       "      <th>price</th>\n",
       "      <th>year</th>\n",
       "      <th>month</th>\n",
       "    </tr>\n",
       "  </thead>\n",
       "  <tbody>\n",
       "    <tr>\n",
       "      <th>0</th>\n",
       "      <td>241032</td>\n",
       "      <td>2016-01-04</td>\n",
       "      <td>t</td>\n",
       "      <td>85.0</td>\n",
       "      <td>2016</td>\n",
       "      <td>1</td>\n",
       "    </tr>\n",
       "    <tr>\n",
       "      <th>1</th>\n",
       "      <td>241032</td>\n",
       "      <td>2016-01-05</td>\n",
       "      <td>t</td>\n",
       "      <td>85.0</td>\n",
       "      <td>2016</td>\n",
       "      <td>1</td>\n",
       "    </tr>\n",
       "    <tr>\n",
       "      <th>9</th>\n",
       "      <td>241032</td>\n",
       "      <td>2016-01-13</td>\n",
       "      <td>t</td>\n",
       "      <td>85.0</td>\n",
       "      <td>2016</td>\n",
       "      <td>1</td>\n",
       "    </tr>\n",
       "    <tr>\n",
       "      <th>10</th>\n",
       "      <td>241032</td>\n",
       "      <td>2016-01-14</td>\n",
       "      <td>t</td>\n",
       "      <td>85.0</td>\n",
       "      <td>2016</td>\n",
       "      <td>1</td>\n",
       "    </tr>\n",
       "    <tr>\n",
       "      <th>14</th>\n",
       "      <td>241032</td>\n",
       "      <td>2016-01-18</td>\n",
       "      <td>t</td>\n",
       "      <td>85.0</td>\n",
       "      <td>2016</td>\n",
       "      <td>1</td>\n",
       "    </tr>\n",
       "    <tr>\n",
       "      <th>...</th>\n",
       "      <td>...</td>\n",
       "      <td>...</td>\n",
       "      <td>...</td>\n",
       "      <td>...</td>\n",
       "      <td>...</td>\n",
       "      <td>...</td>\n",
       "    </tr>\n",
       "    <tr>\n",
       "      <th>1393207</th>\n",
       "      <td>10208623</td>\n",
       "      <td>2016-01-06</td>\n",
       "      <td>t</td>\n",
       "      <td>87.0</td>\n",
       "      <td>2016</td>\n",
       "      <td>1</td>\n",
       "    </tr>\n",
       "    <tr>\n",
       "      <th>1393208</th>\n",
       "      <td>10208623</td>\n",
       "      <td>2016-01-07</td>\n",
       "      <td>t</td>\n",
       "      <td>87.0</td>\n",
       "      <td>2016</td>\n",
       "      <td>1</td>\n",
       "    </tr>\n",
       "    <tr>\n",
       "      <th>1393211</th>\n",
       "      <td>10208623</td>\n",
       "      <td>2016-01-10</td>\n",
       "      <td>t</td>\n",
       "      <td>87.0</td>\n",
       "      <td>2016</td>\n",
       "      <td>1</td>\n",
       "    </tr>\n",
       "    <tr>\n",
       "      <th>1393212</th>\n",
       "      <td>10208623</td>\n",
       "      <td>2016-01-11</td>\n",
       "      <td>t</td>\n",
       "      <td>87.0</td>\n",
       "      <td>2016</td>\n",
       "      <td>1</td>\n",
       "    </tr>\n",
       "    <tr>\n",
       "      <th>1393213</th>\n",
       "      <td>10208623</td>\n",
       "      <td>2016-01-12</td>\n",
       "      <td>t</td>\n",
       "      <td>87.0</td>\n",
       "      <td>2016</td>\n",
       "      <td>1</td>\n",
       "    </tr>\n",
       "  </tbody>\n",
       "</table>\n",
       "<p>934542 rows × 6 columns</p>\n",
       "</div>"
      ],
      "text/plain": [
       "         listing_id       date available  price  year  month\n",
       "0            241032 2016-01-04         t   85.0  2016      1\n",
       "1            241032 2016-01-05         t   85.0  2016      1\n",
       "9            241032 2016-01-13         t   85.0  2016      1\n",
       "10           241032 2016-01-14         t   85.0  2016      1\n",
       "14           241032 2016-01-18         t   85.0  2016      1\n",
       "...             ...        ...       ...    ...   ...    ...\n",
       "1393207    10208623 2016-01-06         t   87.0  2016      1\n",
       "1393208    10208623 2016-01-07         t   87.0  2016      1\n",
       "1393211    10208623 2016-01-10         t   87.0  2016      1\n",
       "1393212    10208623 2016-01-11         t   87.0  2016      1\n",
       "1393213    10208623 2016-01-12         t   87.0  2016      1\n",
       "\n",
       "[934542 rows x 6 columns]"
      ]
     },
     "execution_count": 24,
     "metadata": {},
     "output_type": "execute_result"
    }
   ],
   "source": [
    "# Use this, and more code cells, to explore your data. Don't forget to add markdown cells to document your observations and findings.\n",
    "df_calendar['year'] = pd.DatetimeIndex(df_calendar['date']).year\n",
    "df_calendar['month'] = pd.DatetimeIndex(df_calendar['date']).month\n",
    "df_calendar\n",
    "# Breaking down the time data to year and month to analyze the monthly listings and price"
   ]
  },
  {
   "cell_type": "code",
   "execution_count": 25,
   "id": "04a3b867",
   "metadata": {},
   "outputs": [
    {
     "data": {
      "text/plain": [
       "Text(0.5, 1.0, 'Number of listings per month in 2016')"
      ]
     },
     "execution_count": 25,
     "metadata": {},
     "output_type": "execute_result"
    },
    {
     "data": {
      "image/png": "[encoded data removed]",
      "text/plain": [
       "<Figure size 1080x720 with 1 Axes>"
      ]
     },
     "metadata": {
      "needs_background": "light"
     },
     "output_type": "display_data"
    }
   ],
   "source": [
    "listings_per_month = pd.Series([12]) \n",
    "# Calculating the listings available per month\n",
    "for i in range(1, 13):\n",
    "    listings_per_month[i] = len(df_calendar[(df_calendar['month'] == i) & (df_calendar['year'] == 2016)]['listing_id'].unique())\n",
    "    \n",
    "listings_per_month = listings_per_month.drop(0)\n",
    "\n",
    "\n",
    "months = ['Jan', 'Feb', 'Mar', 'Apr', 'May' , 'Jun' , 'Jul' , 'Aug' , 'Sep' , 'Oct' , 'Nov' , 'Dec']\n",
    "plt.subplots(figsize = (15,10))\n",
    "ax = sns.pointplot(x = months, y = listings_per_month)\n",
    "plt.ylabel('Number of listings')\n",
    "plt.xlabel('Months')\n",
    "plt.title('Number of listings per month in 2016')"
   ]
  },
  {
   "cell_type": "markdown",
   "id": "58957156",
   "metadata": {},
   "source": [
    "From the above plot, it can be seen that the month of July had the lowest number of listings available, thereby making it the bussiest month of 2016."
   ]
  },
  {
   "cell_type": "code",
   "execution_count": 26,
   "id": "c96da6a5",
   "metadata": {},
   "outputs": [
    {
     "data": {
      "text/html": [
       "<div>\n",
       "<style scoped>\n",
       "    .dataframe tbody tr th:only-of-type {\n",
       "        vertical-align: middle;\n",
       "    }\n",
       "\n",
       "    .dataframe tbody tr th {\n",
       "        vertical-align: top;\n",
       "    }\n",
       "\n",
       "    .dataframe thead th {\n",
       "        text-align: right;\n",
       "    }\n",
       "</style>\n",
       "<table border=\"1\" class=\"dataframe\">\n",
       "  <thead>\n",
       "    <tr style=\"text-align: right;\">\n",
       "      <th></th>\n",
       "      <th>year</th>\n",
       "      <th>month</th>\n",
       "      <th>average_Price</th>\n",
       "      <th>year-Month</th>\n",
       "    </tr>\n",
       "  </thead>\n",
       "  <tbody>\n",
       "    <tr>\n",
       "      <th>0</th>\n",
       "      <td>2016</td>\n",
       "      <td>1</td>\n",
       "      <td>121.568409</td>\n",
       "      <td>2016-1</td>\n",
       "    </tr>\n",
       "    <tr>\n",
       "      <th>1</th>\n",
       "      <td>2016</td>\n",
       "      <td>2</td>\n",
       "      <td>124.293927</td>\n",
       "      <td>2016-2</td>\n",
       "    </tr>\n",
       "    <tr>\n",
       "      <th>2</th>\n",
       "      <td>2016</td>\n",
       "      <td>3</td>\n",
       "      <td>128.644488</td>\n",
       "      <td>2016-3</td>\n",
       "    </tr>\n",
       "    <tr>\n",
       "      <th>3</th>\n",
       "      <td>2016</td>\n",
       "      <td>4</td>\n",
       "      <td>135.097005</td>\n",
       "      <td>2016-4</td>\n",
       "    </tr>\n",
       "    <tr>\n",
       "      <th>4</th>\n",
       "      <td>2016</td>\n",
       "      <td>5</td>\n",
       "      <td>139.538183</td>\n",
       "      <td>2016-5</td>\n",
       "    </tr>\n",
       "    <tr>\n",
       "      <th>5</th>\n",
       "      <td>2016</td>\n",
       "      <td>6</td>\n",
       "      <td>147.473137</td>\n",
       "      <td>2016-6</td>\n",
       "    </tr>\n",
       "    <tr>\n",
       "      <th>6</th>\n",
       "      <td>2016</td>\n",
       "      <td>7</td>\n",
       "      <td>152.094150</td>\n",
       "      <td>2016-7</td>\n",
       "    </tr>\n",
       "    <tr>\n",
       "      <th>7</th>\n",
       "      <td>2016</td>\n",
       "      <td>8</td>\n",
       "      <td>150.656594</td>\n",
       "      <td>2016-8</td>\n",
       "    </tr>\n",
       "    <tr>\n",
       "      <th>8</th>\n",
       "      <td>2016</td>\n",
       "      <td>9</td>\n",
       "      <td>143.255949</td>\n",
       "      <td>2016-9</td>\n",
       "    </tr>\n",
       "    <tr>\n",
       "      <th>9</th>\n",
       "      <td>2016</td>\n",
       "      <td>10</td>\n",
       "      <td>137.031939</td>\n",
       "      <td>2016-10</td>\n",
       "    </tr>\n",
       "    <tr>\n",
       "      <th>10</th>\n",
       "      <td>2016</td>\n",
       "      <td>11</td>\n",
       "      <td>135.688738</td>\n",
       "      <td>2016-11</td>\n",
       "    </tr>\n",
       "    <tr>\n",
       "      <th>11</th>\n",
       "      <td>2016</td>\n",
       "      <td>12</td>\n",
       "      <td>137.251835</td>\n",
       "      <td>2016-12</td>\n",
       "    </tr>\n",
       "  </tbody>\n",
       "</table>\n",
       "</div>"
      ],
      "text/plain": [
       "    year  month  average_Price year-Month\n",
       "0   2016      1     121.568409     2016-1\n",
       "1   2016      2     124.293927     2016-2\n",
       "2   2016      3     128.644488     2016-3\n",
       "3   2016      4     135.097005     2016-4\n",
       "4   2016      5     139.538183     2016-5\n",
       "5   2016      6     147.473137     2016-6\n",
       "6   2016      7     152.094150     2016-7\n",
       "7   2016      8     150.656594     2016-8\n",
       "8   2016      9     143.255949     2016-9\n",
       "9   2016     10     137.031939    2016-10\n",
       "10  2016     11     135.688738    2016-11\n",
       "11  2016     12     137.251835    2016-12"
      ]
     },
     "execution_count": 26,
     "metadata": {},
     "output_type": "execute_result"
    }
   ],
   "source": [
    "yearDF=df_calendar.groupby(['year','month']).price.mean()\n",
    "yearDF=yearDF.reset_index()\n",
    "yearDF=yearDF.rename(columns={'price':'average_Price'})\n",
    "yearDF['year-Month']=yearDF['year'].map(str) + \"-\" + yearDF['month'].map(str)\n",
    "yearDF = yearDF[yearDF['year']==2016]\n",
    "yearDF"
   ]
  },
  {
   "cell_type": "code",
   "execution_count": 27,
   "id": "33ea4c02",
   "metadata": {},
   "outputs": [
    {
     "data": {
      "text/plain": [
       "<AxesSubplot:title={'center':'Seattle Airbnb prices trend over months'}, xlabel='year-Month', ylabel='average_Price'>"
      ]
     },
     "execution_count": 27,
     "metadata": {},
     "output_type": "execute_result"
    },
    {
     "data": {
      "image/png": "[encoded data removed]",
      "text/plain": [
       "<Figure size 1080x720 with 1 Axes>"
      ]
     },
     "metadata": {
      "needs_background": "light"
     },
     "output_type": "display_data"
    }
   ],
   "source": [
    "yearDF.plot(kind='bar', \n",
    "           x='year-Month',\n",
    "           y='average_Price',\n",
    "           figsize =(15,10), \n",
    "           title = 'Seattle Airbnb prices trend over months', ylabel = 'average_Price')"
   ]
  },
  {
   "cell_type": "markdown",
   "id": "c2f8c3c4",
   "metadata": {},
   "source": [
    "From the above graph, it is evident that the highest prices of the airbnb was also observed in July, 2016. Now to find out the exact hike in prices, we need to find the average price of the Airbnbs across all the months of 2016.  "
   ]
  },
  {
   "cell_type": "code",
   "execution_count": 28,
   "id": "57fc23a1",
   "metadata": {},
   "outputs": [
    {
     "data": {
      "text/plain": [
       "6    14.377954\n",
       "Name: average_Price, dtype: float64"
      ]
     },
     "execution_count": 28,
     "metadata": {},
     "output_type": "execute_result"
    }
   ],
   "source": [
    "average_monthly_price = yearDF['average_Price'].mean()\n",
    "hike_price = (yearDF[yearDF['year-Month']=='2016-7']['average_Price'])-average_monthly_price\n",
    "hike_price"
   ]
  },
  {
   "cell_type": "markdown",
   "id": "c955aba9",
   "metadata": {},
   "source": [
    "During the month of December 2016, the average prices of airbnnb's were hiked by 14.37 dollars compared to the average price of that year."
   ]
  },
  {
   "cell_type": "markdown",
   "id": "355e22cc",
   "metadata": {
    "id": "355e22cc"
   },
   "source": [
    "### Q2. Does more number of reviews of a listing mean that the overall reviews are better? Also, does higher number of reviews mean higher price of the listing?"
   ]
  },
  {
   "cell_type": "code",
   "execution_count": 29,
   "id": "6f0f4aca",
   "metadata": {
    "id": "6f0f4aca"
   },
   "outputs": [
    {
     "data": {
      "text/plain": [
       "Text(0, 0.5, 'average score of reviews')"
      ]
     },
     "execution_count": 29,
     "metadata": {},
     "output_type": "execute_result"
    },
    {
     "data": {
      "image/png": "[encoded data removed]",
      "text/plain": [
       "<Figure size 1080x720 with 1 Axes>"
      ]
     },
     "metadata": {
      "needs_background": "light"
     },
     "output_type": "display_data"
    }
   ],
   "source": [
    "list_df2 = df_listings[df_listings['number_of_reviews']>5] \n",
    "# Storing the data of all the listings that have more than 5 reviews in list_df2\n",
    "plt.figure(figsize = (15,10))\n",
    "plt.plot(list_df2['number_of_reviews'],list_df2['review_scores_rating'],'o',label='data')\n",
    "plt.xlabel('number of reviews')\n",
    "plt.ylabel('average score of reviews')"
   ]
  },
  {
   "cell_type": "markdown",
   "id": "809f71cb",
   "metadata": {},
   "source": [
    "From the above graph, it can be seen that the listings having more than 300 reviews have a very good  review score. However, listings having less than 200 reviews have a mixed review score ranging from low to high. Hence, it would be fair to say that higher reviews imply that the overall reviews are better."
   ]
  },
  {
   "cell_type": "code",
   "execution_count": 30,
   "id": "905d9e68",
   "metadata": {},
   "outputs": [
    {
     "name": "stderr",
     "output_type": "stream",
     "text": [
      "<ipython-input-30-16bc527660da>:5: SettingWithCopyWarning: \n",
      "A value is trying to be set on a copy of a slice from a DataFrame\n",
      "\n",
      "See the caveats in the documentation: https://pandas.pydata.org/pandas-docs/stable/user_guide/indexing.html#returning-a-view-versus-a-copy\n",
      "  df2.dropna(inplace=True)\n",
      "<ipython-input-30-16bc527660da>:7: SettingWithCopyWarning: \n",
      "A value is trying to be set on a copy of a slice from a DataFrame.\n",
      "Try using .loc[row_indexer,col_indexer] = value instead\n",
      "\n",
      "See the caveats in the documentation: https://pandas.pydata.org/pandas-docs/stable/user_guide/indexing.html#returning-a-view-versus-a-copy\n",
      "  df2['review_metric'] = (df2['review_scores_rating'] + df2[['review_scores_accuracy', 'review_scores_cleanliness',\n"
     ]
    },
    {
     "data": {
      "text/html": [
       "<div>\n",
       "<style scoped>\n",
       "    .dataframe tbody tr th:only-of-type {\n",
       "        vertical-align: middle;\n",
       "    }\n",
       "\n",
       "    .dataframe tbody tr th {\n",
       "        vertical-align: top;\n",
       "    }\n",
       "\n",
       "    .dataframe thead th {\n",
       "        text-align: right;\n",
       "    }\n",
       "</style>\n",
       "<table border=\"1\" class=\"dataframe\">\n",
       "  <thead>\n",
       "    <tr style=\"text-align: right;\">\n",
       "      <th></th>\n",
       "      <th>id</th>\n",
       "      <th>host_id</th>\n",
       "      <th>number_of_reviews</th>\n",
       "      <th>reviews_per_month</th>\n",
       "      <th>review_metric</th>\n",
       "      <th>price</th>\n",
       "    </tr>\n",
       "  </thead>\n",
       "  <tbody>\n",
       "    <tr>\n",
       "      <th>0</th>\n",
       "      <td>241032</td>\n",
       "      <td>956883</td>\n",
       "      <td>207</td>\n",
       "      <td>4.07</td>\n",
       "      <td>193.333333</td>\n",
       "      <td>85.0</td>\n",
       "    </tr>\n",
       "    <tr>\n",
       "      <th>1</th>\n",
       "      <td>953595</td>\n",
       "      <td>5177328</td>\n",
       "      <td>43</td>\n",
       "      <td>1.48</td>\n",
       "      <td>196.000000</td>\n",
       "      <td>150.0</td>\n",
       "    </tr>\n",
       "    <tr>\n",
       "      <th>2</th>\n",
       "      <td>3308979</td>\n",
       "      <td>16708587</td>\n",
       "      <td>20</td>\n",
       "      <td>1.15</td>\n",
       "      <td>197.000000</td>\n",
       "      <td>975.0</td>\n",
       "    </tr>\n",
       "    <tr>\n",
       "      <th>4</th>\n",
       "      <td>278830</td>\n",
       "      <td>1452570</td>\n",
       "      <td>38</td>\n",
       "      <td>0.89</td>\n",
       "      <td>185.333333</td>\n",
       "      <td>450.0</td>\n",
       "    </tr>\n",
       "    <tr>\n",
       "      <th>5</th>\n",
       "      <td>5956968</td>\n",
       "      <td>326758</td>\n",
       "      <td>17</td>\n",
       "      <td>2.45</td>\n",
       "      <td>195.000000</td>\n",
       "      <td>120.0</td>\n",
       "    </tr>\n",
       "    <tr>\n",
       "      <th>...</th>\n",
       "      <td>...</td>\n",
       "      <td>...</td>\n",
       "      <td>...</td>\n",
       "      <td>...</td>\n",
       "      <td>...</td>\n",
       "      <td>...</td>\n",
       "    </tr>\n",
       "    <tr>\n",
       "      <th>3810</th>\n",
       "      <td>262764</td>\n",
       "      <td>1379138</td>\n",
       "      <td>5</td>\n",
       "      <td>1.56</td>\n",
       "      <td>183.666667</td>\n",
       "      <td>154.0</td>\n",
       "    </tr>\n",
       "    <tr>\n",
       "      <th>3811</th>\n",
       "      <td>8578490</td>\n",
       "      <td>11847918</td>\n",
       "      <td>2</td>\n",
       "      <td>0.63</td>\n",
       "      <td>195.000000</td>\n",
       "      <td>65.0</td>\n",
       "    </tr>\n",
       "    <tr>\n",
       "      <th>3812</th>\n",
       "      <td>3383329</td>\n",
       "      <td>3443346</td>\n",
       "      <td>73</td>\n",
       "      <td>4.01</td>\n",
       "      <td>194.333333</td>\n",
       "      <td>95.0</td>\n",
       "    </tr>\n",
       "    <tr>\n",
       "      <th>3813</th>\n",
       "      <td>8101950</td>\n",
       "      <td>31148752</td>\n",
       "      <td>1</td>\n",
       "      <td>0.30</td>\n",
       "      <td>160.000000</td>\n",
       "      <td>359.0</td>\n",
       "    </tr>\n",
       "    <tr>\n",
       "      <th>3814</th>\n",
       "      <td>8902327</td>\n",
       "      <td>46566046</td>\n",
       "      <td>2</td>\n",
       "      <td>2.00</td>\n",
       "      <td>200.000000</td>\n",
       "      <td>79.0</td>\n",
       "    </tr>\n",
       "  </tbody>\n",
       "</table>\n",
       "<p>3158 rows × 6 columns</p>\n",
       "</div>"
      ],
      "text/plain": [
       "           id   host_id  number_of_reviews  reviews_per_month  review_metric  \\\n",
       "0      241032    956883                207               4.07     193.333333   \n",
       "1      953595   5177328                 43               1.48     196.000000   \n",
       "2     3308979  16708587                 20               1.15     197.000000   \n",
       "4      278830   1452570                 38               0.89     185.333333   \n",
       "5     5956968    326758                 17               2.45     195.000000   \n",
       "...       ...       ...                ...                ...            ...   \n",
       "3810   262764   1379138                  5               1.56     183.666667   \n",
       "3811  8578490  11847918                  2               0.63     195.000000   \n",
       "3812  3383329   3443346                 73               4.01     194.333333   \n",
       "3813  8101950  31148752                  1               0.30     160.000000   \n",
       "3814  8902327  46566046                  2               2.00     200.000000   \n",
       "\n",
       "      price  \n",
       "0      85.0  \n",
       "1     150.0  \n",
       "2     975.0  \n",
       "4     450.0  \n",
       "5     120.0  \n",
       "...     ...  \n",
       "3810  154.0  \n",
       "3811   65.0  \n",
       "3812   95.0  \n",
       "3813  359.0  \n",
       "3814   79.0  \n",
       "\n",
       "[3158 rows x 6 columns]"
      ]
     },
     "execution_count": 30,
     "metadata": {},
     "output_type": "execute_result"
    }
   ],
   "source": [
    "df2 = df_listings[['id', 'host_id', 'number_of_reviews','reviews_per_month',\n",
    "                        'review_scores_rating', 'review_scores_accuracy', 'review_scores_cleanliness', \n",
    "                        'review_scores_checkin', 'review_scores_communication', \n",
    "                        'review_scores_location', 'review_scores_value', 'price']]\n",
    "df2.dropna(inplace=True)\n",
    "# Removing null values from the trimmed data Frame\n",
    "df2['review_metric'] = (df2['review_scores_rating'] + df2[['review_scores_accuracy', 'review_scores_cleanliness', \n",
    "                                                                                      'review_scores_checkin', 'review_scores_communication', \n",
    "                                                                                      'review_scores_location', 'review_scores_value']].mean(axis=1) * 10)\n",
    "# Calculating the total review scores based on the available metrics for the listings\n",
    "df2 = df2[['id', 'host_id', 'number_of_reviews','reviews_per_month',\n",
    "                             'review_metric', 'price']]\n",
    "df2"
   ]
  },
  {
   "cell_type": "code",
   "execution_count": 31,
   "id": "be74e8f5",
   "metadata": {},
   "outputs": [
    {
     "data": {
      "text/plain": [
       "Text(0.5, 1.0, 'Price vs Review Score')"
      ]
     },
     "execution_count": 31,
     "metadata": {},
     "output_type": "execute_result"
    },
    {
     "data": {
      "image/png": "[encoded data removed]",
      "text/plain": [
       "<Figure size 1080x576 with 2 Axes>"
      ]
     },
     "metadata": {
      "needs_background": "light"
     },
     "output_type": "display_data"
    }
   ],
   "source": [
    "fig, ax = plt.subplots(figsize=(15,8))\n",
    "p = ax.scatter(df2['review_metric'], df2['price'], s=10, c=df2['number_of_reviews'])\n",
    "colorbar = fig.colorbar(p)\n",
    "colorbar.set_label(\"Number of Reviews\")\n",
    "ax.set_xlabel(\"Review Score\")\n",
    "ax.set_ylabel(\"Price\")\n",
    "ax.set_title(\"Price vs Review Score\")"
   ]
  },
  {
   "cell_type": "markdown",
   "id": "5361a4f8",
   "metadata": {},
   "source": [
    "From the above figure, it can be determined that listings with low review score are usually low priced, but listings with higer review score are spread over a range of price starting from low to high."
   ]
  },
  {
   "cell_type": "markdown",
   "id": "fa519840",
   "metadata": {
    "id": "fa519840"
   },
   "source": [
    "### Q3. What are the various factors that had an impact on the reviews of a listing in Seattle?"
   ]
  },
  {
   "cell_type": "code",
   "execution_count": 32,
   "id": "daebc323",
   "metadata": {},
   "outputs": [
    {
     "data": {
      "text/plain": [
       "host_response_time\n",
       "within an hour        95.028369\n",
       "within a day          94.209380\n",
       "within a few hours    93.837810\n",
       "a few days or more    89.263158\n",
       "Name: review_scores_rating, dtype: float64"
      ]
     },
     "execution_count": 32,
     "metadata": {},
     "output_type": "execute_result"
    }
   ],
   "source": [
    "response_time_review = df_listings['review_scores_rating'].groupby(df_listings['host_response_time']).mean()\n",
    "# Grouping the review_scores_rating in terms of host_response_time to plot and find any relation\n",
    "response_time_review = response_time_review.sort_values(ascending=False) # Sorting the values\n",
    "response_time_review"
   ]
  },
  {
   "cell_type": "code",
   "execution_count": 33,
   "id": "83b27775",
   "metadata": {},
   "outputs": [
    {
     "name": "stderr",
     "output_type": "stream",
     "text": [
      "<ipython-input-33-84bc8819c84e>:3: UserWarning: FixedFormatter should only be used together with FixedLocator\n",
      "  ax.set_xticklabels(response_time_review.index)\n"
     ]
    },
    {
     "data": {
      "image/png": "[encoded data removed]",
      "text/plain": [
       "<Figure size 1008x576 with 1 Axes>"
      ]
     },
     "metadata": {
      "needs_background": "light"
     },
     "output_type": "display_data"
    }
   ],
   "source": [
    "f, ax = plt.subplots(1,1, figsize=(14,8))\n",
    "ax.plot(response_time_review, 'o-')\n",
    "ax.set_xticklabels(response_time_review.index)\n",
    "ax.tick_params('x')\n",
    "plt.ylabel('Review rating')\n",
    "plt.xlabel('Respone time')\n",
    "plt.title('Mean rating of response time', fontsize=20)\n",
    "plt.show()"
   ]
  },
  {
   "cell_type": "markdown",
   "id": "bc2db681",
   "metadata": {},
   "source": [
    "From the above figure, we can see that the host_response_time clearly has on impact on the review ratings. The hosts with good response time have a better average review rating score. The average review rating score keeps decreasing with the delay in response time of the host."
   ]
  },
  {
   "cell_type": "code",
   "execution_count": 34,
   "id": "02d0624f",
   "metadata": {},
   "outputs": [
    {
     "data": {
      "image/png": "[encoded data removed]",
      "text/plain": [
       "<Figure size 1440x720 with 1 Axes>"
      ]
     },
     "metadata": {
      "needs_background": "light"
     },
     "output_type": "display_data"
    }
   ],
   "source": [
    "plt.figure(figsize=(20,10))\n",
    "sns.boxplot(x='host_is_superhost', y='review_scores_rating', data=df_listings) # Plotting the host_is_superhost with review_scores_rating to check if superhosts usually got a better rating.\n",
    "plt.ylabel('Review rating')\n",
    "plt.xlabel('Superhost status')\n",
    "plt.show()"
   ]
  },
  {
   "cell_type": "markdown",
   "id": "b7593800",
   "metadata": {},
   "source": [
    "From above, it is clear that the average review_scores_rating for super hosts is better than the listings owned by others. Superhosts have an average review_scores_rating very close to 100 and the candles show that the rating density of the superhosts are very high near 100."
   ]
  },
  {
   "cell_type": "code",
   "execution_count": 35,
   "id": "54ea8d07",
   "metadata": {},
   "outputs": [
    {
     "data": {
      "text/plain": [
       "cancellation_policy\n",
       "moderate    94.609113\n",
       "flexible    94.549565\n",
       "strict      94.223006\n",
       "Name: review_scores_rating, dtype: float64"
      ]
     },
     "execution_count": 35,
     "metadata": {},
     "output_type": "execute_result"
    }
   ],
   "source": [
    "cancellation_rating = df_listings['review_scores_rating'].groupby(df_listings['cancellation_policy']).mean()\n",
    "cancellation_rating = cancellation_rating.sort_values(ascending=False)\n",
    "cancellation_rating"
   ]
  },
  {
   "cell_type": "code",
   "execution_count": 36,
   "id": "35f02a74",
   "metadata": {},
   "outputs": [
    {
     "name": "stderr",
     "output_type": "stream",
     "text": [
      "<ipython-input-36-0258754f435f>:3: UserWarning: FixedFormatter should only be used together with FixedLocator\n",
      "  ax.set_xticklabels(cancellation_rating.index)\n"
     ]
    },
    {
     "data": {
      "image/png": "[encoded data removed]",
      "text/plain": [
       "<Figure size 1008x576 with 1 Axes>"
      ]
     },
     "metadata": {
      "needs_background": "light"
     },
     "output_type": "display_data"
    }
   ],
   "source": [
    "f, ax = plt.subplots(1,1, figsize=(14,8))\n",
    "ax.plot(cancellation_rating, 'o-')\n",
    "ax.set_xticklabels(cancellation_rating.index)\n",
    "ax.tick_params('x', labelrotation=45)\n",
    "plt.ylabel('Review rating')\n",
    "plt.xlabel('Cancellation Policy')\n",
    "plt.title('Review Rating vs Cancellation Policy', fontsize=20)\n",
    "plt.show()"
   ]
  },
  {
   "cell_type": "markdown",
   "id": "da7a1d80",
   "metadata": {},
   "source": [
    "From the above figure, it can be seen that the review ratings of listings having moderate cancellation policy usually has the highest review rating and there is a drastic drop in mean review ratings that had strict cancellation policy."
   ]
  },
  {
   "cell_type": "code",
   "execution_count": 37,
   "id": "39a8879d",
   "metadata": {},
   "outputs": [
    {
     "data": {
      "text/plain": [
       "property_type\n",
       "Yurt               100.000000\n",
       "Bungalow            96.538462\n",
       "Cabin               96.238095\n",
       "Other               95.954545\n",
       "Townhouse           95.779661\n",
       "Treehouse           95.333333\n",
       "Camper/RV           95.307692\n",
       "Bed & Breakfast     95.216216\n",
       "Loft                95.200000\n",
       "Boat                95.000000\n",
       "Condominium         95.000000\n",
       "House               94.702250\n",
       "Tent                94.400000\n",
       "Apartment           93.981265\n",
       "Dorm                90.000000\n",
       "Chalet              83.500000\n",
       "Name: review_scores_rating, dtype: float64"
      ]
     },
     "execution_count": 37,
     "metadata": {},
     "output_type": "execute_result"
    }
   ],
   "source": [
    "property_type_rating = df_listings['review_scores_rating'].groupby(df_listings['property_type']).mean()\n",
    "property_type_rating = property_type_rating.sort_values(ascending=False)\n",
    "property_type_rating"
   ]
  },
  {
   "cell_type": "code",
   "execution_count": 38,
   "id": "91785b3b",
   "metadata": {},
   "outputs": [
    {
     "data": {
      "text/plain": [
       "<AxesSubplot:title={'center':'Review rating Vs Property Type'}, xlabel='property_type', ylabel='Review rating'>"
      ]
     },
     "execution_count": 38,
     "metadata": {},
     "output_type": "execute_result"
    },
    {
     "data": {
      "image/png": "[encoded data removed]",
      "text/plain": [
       "<Figure size 1080x720 with 1 Axes>"
      ]
     },
     "metadata": {
      "needs_background": "light"
     },
     "output_type": "display_data"
    }
   ],
   "source": [
    "property_type_rating.plot(kind='bar', \n",
    "           x='review_scores_rating',\n",
    "           y='property_type',\n",
    "           figsize =(15,10), \n",
    "           title = 'Review rating Vs Property Type', ylabel = 'Review rating'\n",
    "          )"
   ]
  },
  {
   "cell_type": "markdown",
   "id": "558b5d83",
   "metadata": {},
   "source": [
    "In the above plot, yurt is seen to have the highest average review rating and chalet have the lowest average review ratings."
   ]
  },
  {
   "cell_type": "code",
   "execution_count": 39,
   "id": "24431bed",
   "metadata": {},
   "outputs": [
    {
     "data": {
      "text/plain": [
       "room_type\n",
       "Private room       94.660345\n",
       "Entire home/apt    94.399449\n",
       "Shared room        93.393162\n",
       "Name: review_scores_rating, dtype: float64"
      ]
     },
     "execution_count": 39,
     "metadata": {},
     "output_type": "execute_result"
    }
   ],
   "source": [
    "room_type_rating = df_listings['review_scores_rating'].groupby(df_listings['room_type']).mean()\n",
    "room_type_rating = room_type_rating.sort_values(ascending=False)\n",
    "room_type_rating"
   ]
  },
  {
   "cell_type": "code",
   "execution_count": 41,
   "id": "dd7a631d",
   "metadata": {},
   "outputs": [
    {
     "name": "stderr",
     "output_type": "stream",
     "text": [
      "<ipython-input-41-8a96ac5308b7>:3: UserWarning: FixedFormatter should only be used together with FixedLocator\n",
      "  ax.set_xticklabels(room_type_rating.index)\n"
     ]
    },
    {
     "data": {
      "image/png": "[encoded data removed]",
      "text/plain": [
       "<Figure size 1008x576 with 1 Axes>"
      ]
     },
     "metadata": {
      "needs_background": "light"
     },
     "output_type": "display_data"
    }
   ],
   "source": [
    "f, ax = plt.subplots(1,1, figsize=(14,8))\n",
    "ax.plot(room_type_rating, 'o-')\n",
    "ax.set_xticklabels(room_type_rating.index)\n",
    "ax.tick_params('x')\n",
    "plt.ylabel('Review rating')\n",
    "plt.xlabel('Room Type')\n",
    "plt.title('Room Type Vs Review Rating', fontsize=20)\n",
    "plt.show()"
   ]
  },
  {
   "cell_type": "markdown",
   "id": "5ef27010",
   "metadata": {},
   "source": [
    "From above, it can be seen that Entire home/apt and private room almost had the similar mean review rating and shared room had the lowest review rating."
   ]
  },
  {
   "cell_type": "markdown",
   "id": "19ce85ed",
   "metadata": {
    "id": "19ce85ed"
   },
   "source": [
    "<a id='conclusions'></a>\n",
    "## Conclusions\n",
    "\n",
    "> At the end, summarize your findings and the results that have been performed. \n",
    "- The Conclusion should reflect on the steps taken during the data exploration, summarize the main findings in relation to the questions provided at the beginning of the analysis accurately.\n",
    "- The conclusion points out where additional research can be done or where additional information could be useful and **should have at least 1 limitation explained clearly.**\n",
    "- The analysis should not state or imply that one change causes another based solely on a correlation. You can refer to this video on [Correlation does not mean Causation](https://youtu.be/VMUQSMFGBDo)\n"
   ]
  },
  {
   "cell_type": "markdown",
   "id": "dab6d33e",
   "metadata": {
    "id": "e0b59e2b"
   },
   "source": [
    "From the provided data, it can be seen that the bussiest month was July, 2016 and the prices for listings in the month of July were also highest compared to the other months. From the data, we could also infer that the higher number of reviews for a listing meant that there were better reviews and that highly rated listings were usually spread available in all types of price range. \n",
    "To understand the effects of certain parameter on customer satisfaction, we also plotted multiple such parameters with the review_scores_rating and noticed that some parameters like host_response_time, cancellation_policy, superhost_status and property_type had a huge impact on customer ratings. However, it was seen that the parameter room_type had very less impact on the review_scores_rating. This explains the important features that could help a listing get a better review_scores_rating.\n"
   ]
  },
  {
   "cell_type": "markdown",
   "id": "bde088f7",
   "metadata": {},
   "source": [
    "According to me, the listings dataset could have included the first operation date for the airbnb's instead of first_review as it is not an appropriate measure of years of operation of a listing. This data could have allowed to analyze the review_score_ratings based on the number of years of operation of the listings. This would probably give a fair estimate of how customers rated the older and newer listings."
   ]
  },
  {
   "cell_type": "code",
   "execution_count": null,
   "id": "bd504806",
   "metadata": {},
   "outputs": [],
   "source": []
  }
 ],
 "metadata": {
  "colab": {
   "collapsed_sections": [],
   "name": "Project - Seattle EDA.ipynb",
   "provenance": []
  },
  "kernelspec": {
   "display_name": "Python 3",
   "language": "python",
   "name": "python3"
  },
  "language_info": {
   "codemirror_mode": {
    "name": "ipython",
    "version": 3
   },
   "file_extension": ".py",
   "mimetype": "text/x-python",
   "name": "python",
   "nbconvert_exporter": "python",
   "pygments_lexer": "ipython3",
   "version": "3.8.8"
  }
 },
 "nbformat": 4,
 "nbformat_minor": 5
}
